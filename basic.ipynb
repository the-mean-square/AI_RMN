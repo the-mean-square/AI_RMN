{
 "cells": [
  {
   "cell_type": "markdown",
   "metadata": {},
   "source": []
  },
  {
   "attachments": {},
   "cell_type": "markdown",
   "metadata": {},
   "source": [
    "# Create multi-line comments using \"command+/\""
   ]
  },
  {
   "cell_type": "code",
   "execution_count": null,
   "metadata": {},
   "outputs": [],
   "source": [
    "# Hello\n",
    "# I'm testing this shortcut"
   ]
  },
  {
   "attachments": {},
   "cell_type": "markdown",
   "metadata": {},
   "source": [
    "# Replicate same lines using \"alt + shift + down arrow\""
   ]
  },
  {
   "cell_type": "code",
   "execution_count": 3,
   "metadata": {},
   "outputs": [
    {
     "name": "stdout",
     "output_type": "stream",
     "text": [
      "Testing this here\n",
      "Testing this here\n",
      "Testing this here\n",
      "Testing this here\n",
      "It works\n"
     ]
    }
   ],
   "source": [
    "print(\"Testing this here\")\n",
    "print(\"Testing this here\")\n",
    "print(\"Testing this here\")\n",
    "print(\"Testing this here\")\n",
    "print(\"It works\")"
   ]
  },
  {
   "attachments": {},
   "cell_type": "markdown",
   "metadata": {},
   "source": [
    "# Alt + hold cursor at multiple lines to add at once"
   ]
  },
  {
   "cell_type": "code",
   "execution_count": 4,
   "metadata": {},
   "outputs": [
    {
     "name": "stdout",
     "output_type": "stream",
     "text": [
      "Testing this here ...added this line as one entry, wow!\n",
      "Testing this here ...added this line as one entry, wow!\n",
      "Testing this here ...added this line as one entry, wow!\n",
      "Testing this here ...added this line as one entry, wow!\n",
      "It works ...added this line as one entry, wow!\n"
     ]
    }
   ],
   "source": [
    "print(\"Testing this here ...added this line as one entry, wow!\")\n",
    "print(\"Testing this here ...added this line as one entry, wow!\")\n",
    "print(\"Testing this here ...added this line as one entry, wow!\")\n",
    "print(\"Testing this here ...added this line as one entry, wow!\")\n",
    "print(\"It works ...added this line as one entry, wow!\")"
   ]
  },
  {
   "attachments": {},
   "cell_type": "markdown",
   "metadata": {},
   "source": [
    "# "
   ]
  },
  {
   "attachments": {},
   "cell_type": "markdown",
   "metadata": {},
   "source": [
    "# Input Function -- takes any entry as string only"
   ]
  },
  {
   "cell_type": "code",
   "execution_count": 11,
   "metadata": {},
   "outputs": [
    {
     "name": "stdout",
     "output_type": "stream",
     "text": [
      "Ranjith\n",
      "Best\n"
     ]
    }
   ],
   "source": [
    "a = input(\"Enter your name\")\n",
    "print(variable)\n",
    "b = input(\"Enter her name\")\n",
    "print(\"Best\")"
   ]
  },
  {
   "attachments": {},
   "cell_type": "markdown",
   "metadata": {},
   "source": [
    "# Strings"
   ]
  },
  {
   "cell_type": "code",
   "execution_count": 13,
   "metadata": {},
   "outputs": [
    {
     "name": "stdout",
     "output_type": "stream",
     "text": [
      "I said,\n",
      "She said\n",
      "What's upppp? \n"
     ]
    }
   ],
   "source": [
    "string = \"\"\"I said,\n",
    "She said\n",
    "What's upppp? \"\"\"\n",
    "print(string)\n"
   ]
  },
  {
   "cell_type": "code",
   "execution_count": 17,
   "metadata": {},
   "outputs": [
    {
     "name": "stdout",
     "output_type": "stream",
     "text": [
      "I\n",
      " \n",
      "s\n",
      "a\n",
      "i\n",
      "d\n",
      ",\n",
      "\n",
      "\n",
      "S\n",
      "h\n",
      "e\n",
      " \n",
      "s\n",
      "a\n",
      "i\n",
      "d\n",
      "\n",
      "\n",
      "W\n",
      "h\n",
      "a\n",
      "t\n",
      "'\n",
      "s\n",
      " \n",
      "u\n",
      "p\n",
      "p\n",
      "p\n",
      "p\n",
      "?\n",
      " \n"
     ]
    }
   ],
   "source": [
    "for character in string: \n",
    "    print(character)\n"
   ]
  },
  {
   "cell_type": "code",
   "execution_count": 15,
   "metadata": {},
   "outputs": [
    {
     "name": "stdout",
     "output_type": "stream",
     "text": [
      "ji ji\n"
     ]
    }
   ],
   "source": [
    "nm = '! Ranjith!! ! Ranjith'\n",
    "print(nm[-4:-2],nm[-4:-2])"
   ]
  },
  {
   "cell_type": "code",
   "execution_count": 11,
   "metadata": {},
   "outputs": [
    {
     "name": "stdout",
     "output_type": "stream",
     "text": [
      "!RANJITH!!!\n",
      "!ranjith!!!\n"
     ]
    }
   ],
   "source": [
    "print(nm.upper())\n",
    "print(nm.lower())"
   ]
  },
  {
   "cell_type": "code",
   "execution_count": 12,
   "metadata": {},
   "outputs": [
    {
     "name": "stdout",
     "output_type": "stream",
     "text": [
      "!Ranjith\n"
     ]
    }
   ],
   "source": [
    "print(nm.rstrip(\"!\"))"
   ]
  },
  {
   "cell_type": "code",
   "execution_count": 13,
   "metadata": {},
   "outputs": [
    {
     "name": "stdout",
     "output_type": "stream",
     "text": [
      "!Friar!!!\n"
     ]
    }
   ],
   "source": [
    "print(nm.replace(\"Ranjith\",\"Friar\"))"
   ]
  },
  {
   "cell_type": "code",
   "execution_count": 16,
   "metadata": {},
   "outputs": [
    {
     "name": "stdout",
     "output_type": "stream",
     "text": [
      "['!', 'Ranjith!!', '!', 'Ranjith']\n"
     ]
    }
   ],
   "source": [
    "print(nm.split(\" \"))"
   ]
  },
  {
   "cell_type": "code",
   "execution_count": 19,
   "metadata": {},
   "outputs": [
    {
     "name": "stdout",
     "output_type": "stream",
     "text": [
      "Introduction to the topic\n"
     ]
    }
   ],
   "source": [
    "blog_heading = \"introduction tO the toPIc\"\n",
    "print(blog_heading.capitalize())"
   ]
  },
  {
   "cell_type": "code",
   "execution_count": 20,
   "metadata": {},
   "outputs": [
    {
     "name": "stdout",
     "output_type": "stream",
     "text": [
      "25\n"
     ]
    }
   ],
   "source": [
    "str1 = \"Welcome to the console!!!\"\n",
    "print(len(str1))"
   ]
  },
  {
   "cell_type": "code",
   "execution_count": 25,
   "metadata": {},
   "outputs": [
    {
     "name": "stdout",
     "output_type": "stream",
     "text": [
      "            Welcome to the console!!!             \n",
      "50\n"
     ]
    }
   ],
   "source": [
    "print(str1.center(50))\n",
    "print(len(str1.center(50)))"
   ]
  },
  {
   "cell_type": "code",
   "execution_count": 27,
   "metadata": {},
   "outputs": [
    {
     "name": "stdout",
     "output_type": "stream",
     "text": [
      "True\n",
      "False\n"
     ]
    }
   ],
   "source": [
    "print(str1.endswith(\"!\"))\n",
    "print(str1.endswith(\"?\"))"
   ]
  },
  {
   "cell_type": "code",
   "execution_count": 28,
   "metadata": {},
   "outputs": [
    {
     "name": "stdout",
     "output_type": "stream",
     "text": [
      "0\n"
     ]
    }
   ],
   "source": [
    "print(str1.find(\"Welcome\"))"
   ]
  },
  {
   "cell_type": "code",
   "execution_count": 29,
   "metadata": {},
   "outputs": [
    {
     "name": "stdout",
     "output_type": "stream",
     "text": [
      "0\n"
     ]
    }
   ],
   "source": [
    "print(str1.index(\"Welcome\"))"
   ]
  },
  {
   "cell_type": "code",
   "execution_count": 31,
   "metadata": {},
   "outputs": [
    {
     "name": "stdout",
     "output_type": "stream",
     "text": [
      "False\n"
     ]
    }
   ],
   "source": [
    "print(str1.isalnum()) # --alphanumeric? aA-zZ, 0-9"
   ]
  },
  {
   "cell_type": "code",
   "execution_count": 36,
   "metadata": {},
   "outputs": [
    {
     "name": "stdout",
     "output_type": "stream",
     "text": [
      "True\n",
      "True\n",
      "False\n"
     ]
    }
   ],
   "source": [
    "str2 = 'A012'\n",
    "print(str2.isalnum())\n",
    "print(str2.isupper())\n",
    "print(str1.islower())"
   ]
  },
  {
   "cell_type": "code",
   "execution_count": 42,
   "metadata": {},
   "outputs": [
    {
     "name": "stdout",
     "output_type": "stream",
     "text": [
      "True\n",
      "Ranjith \n",
      "Menon\n",
      "False\n"
     ]
    }
   ],
   "source": [
    "str2 = 'A012'\n",
    "print(str2.isprintable())\n",
    "\n",
    "str3 = \"Ranjith \\nMenon\"\n",
    "print(str3)\n",
    "print(str3.isprintable()) # False because of \\n -- not printable"
   ]
  },
  {
   "attachments": {},
   "cell_type": "markdown",
   "metadata": {},
   "source": [
    "# fStrings"
   ]
  },
  {
   "cell_type": "code",
   "execution_count": 44,
   "metadata": {},
   "outputs": [
    {
     "name": "stdout",
     "output_type": "stream",
     "text": [
      "My name is Ranjith and I'm a Data scientist\n"
     ]
    }
   ],
   "source": [
    "name = 'Ranjith'\n",
    "designation= 'Data scientist'\n",
    "\n",
    "print(f\"My name is {name} and I'm a {designation}\")"
   ]
  },
  {
   "attachments": {},
   "cell_type": "markdown",
   "metadata": {},
   "source": [
    "# docstrings"
   ]
  },
  {
   "cell_type": "code",
   "execution_count": 47,
   "metadata": {},
   "outputs": [
    {
     "name": "stdout",
     "output_type": "stream",
     "text": [
      "testing begins\n",
      " dummy function to test docstrings\n"
     ]
    }
   ],
   "source": [
    "def test_docstrings():\n",
    "    ''' dummy function to test docstrings'''\n",
    "    print(\"testing begins\")\n",
    "\n",
    "test_docstrings()\n",
    "print(test_docstrings.__doc__)"
   ]
  },
  {
   "attachments": {},
   "cell_type": "markdown",
   "metadata": {},
   "source": [
    "# SETS"
   ]
  },
  {
   "cell_type": "code",
   "execution_count": 53,
   "metadata": {},
   "outputs": [
    {
     "name": "stdout",
     "output_type": "stream",
     "text": [
      "{2, 4, 6}\n",
      "{1, 'c', 'b', 'a'}\n"
     ]
    }
   ],
   "source": [
    "s = {2,4,2,6}\n",
    "print(s)\n",
    "\n",
    "t = {'a','b',1,'a','c'} #order can be random when printing\n",
    "print(t)"
   ]
  },
  {
   "attachments": {},
   "cell_type": "markdown",
   "metadata": {},
   "source": [
    "# Lists"
   ]
  },
  {
   "cell_type": "code",
   "execution_count": 49,
   "metadata": {},
   "outputs": [
    {
     "name": "stdout",
     "output_type": "stream",
     "text": [
      "[2, 4, 2, 6]\n"
     ]
    }
   ],
   "source": [
    "s = [2,4,2,6]\n",
    "print(s)"
   ]
  },
  {
   "attachments": {},
   "cell_type": "markdown",
   "metadata": {},
   "source": [
    "# tuple"
   ]
  },
  {
   "cell_type": "code",
   "execution_count": 50,
   "metadata": {},
   "outputs": [
    {
     "name": "stdout",
     "output_type": "stream",
     "text": [
      "(2, 4, 2, 6)\n"
     ]
    }
   ],
   "source": [
    "s = (2,4,2,6)\n",
    "print(s)"
   ]
  },
  {
   "attachments": {},
   "cell_type": "markdown",
   "metadata": {},
   "source": [
    "# dictionary"
   ]
  },
  {
   "cell_type": "code",
   "execution_count": 58,
   "metadata": {},
   "outputs": [
    {
     "name": "stdout",
     "output_type": "stream",
     "text": [
      "The key is Name and the value is Ranjith\n",
      "The key is Age and the value is 30\n"
     ]
    }
   ],
   "source": [
    "dict = {'Name':'Ranjith', 'Age': '30'}\n",
    "for key,value in dict.items():\n",
    "    print(f\"The key is {key} and the value is {value}\")"
   ]
  },
  {
   "cell_type": "code",
   "execution_count": 59,
   "metadata": {},
   "outputs": [
    {
     "name": "stdout",
     "output_type": "stream",
     "text": [
      "The key is 1 and the value is 1\n",
      "The key is 2 and the value is 2\n"
     ]
    }
   ],
   "source": [
    "dict2 = {1:1, 2:2}\n",
    "for key,value in dict2.items():\n",
    "    print(f\"The key is {key} and the value is {value}\")"
   ]
  },
  {
   "attachments": {},
   "cell_type": "markdown",
   "metadata": {},
   "source": [
    "# Exception handling"
   ]
  },
  {
   "cell_type": "code",
   "execution_count": 66,
   "metadata": {},
   "outputs": [
    {
     "name": "stdout",
     "output_type": "stream",
     "text": [
      "Invalid entry !!!! \n"
     ]
    }
   ],
   "source": [
    "try:\n",
    "    a = int(input(\"Enter a number: \"))\n",
    "    print(a, \"is the number entered\")\n",
    "except: \n",
    "    print(f\"Invalid entry !!!! \")"
   ]
  },
  {
   "attachments": {},
   "cell_type": "markdown",
   "metadata": {},
   "source": [
    "# Finally()"
   ]
  },
  {
   "cell_type": "code",
   "execution_count": 70,
   "metadata": {},
   "outputs": [
    {
     "name": "stdout",
     "output_type": "stream",
     "text": [
      "Invalid entry !!!! \n",
      "checkpoint saved in '<file-location>'\n"
     ]
    }
   ],
   "source": [
    "def test_func():\n",
    "\n",
    "    try:\n",
    "        a = int(input(\"Enter a number:\"))\n",
    "        print(a, \"is the number entered\")\n",
    "          \n",
    "    except: \n",
    "        print(f\"Invalid entry !!!! \")\n",
    "\n",
    "    finally:\n",
    "        print(\"checkpoint saved in '<file-location>'\")\n",
    "\n",
    "test_func()"
   ]
  },
  {
   "attachments": {},
   "cell_type": "markdown",
   "metadata": {},
   "source": [
    "# raise ValueError"
   ]
  },
  {
   "cell_type": "code",
   "execution_count": 77,
   "metadata": {},
   "outputs": [
    {
     "name": "stdout",
     "output_type": "stream",
     "text": [
      "You entered: 1\n"
     ]
    }
   ],
   "source": [
    "a = int(input(\"Enter a number between 1 and 10:\"))\n",
    "print(\"You entered:\",a)\n",
    "if a <1 or a>10:\n",
    "    raise ValueError(\"Please enter a number between 1 and 10\")"
   ]
  },
  {
   "attachments": {},
   "cell_type": "markdown",
   "metadata": {},
   "source": [
    "# enumerate()"
   ]
  },
  {
   "cell_type": "code",
   "execution_count": 80,
   "metadata": {},
   "outputs": [
    {
     "name": "stdout",
     "output_type": "stream",
     "text": [
      "0 ranjith\n",
      "1 phoebe\n",
      "2 joey\n"
     ]
    }
   ],
   "source": [
    "names = ['ranjith','phoebe','joey']\n",
    "for index, name in enumerate(names):\n",
    "    print(index,name)"
   ]
  },
  {
   "cell_type": "code",
   "execution_count": 81,
   "metadata": {},
   "outputs": [
    {
     "name": "stdout",
     "output_type": "stream",
     "text": [
      "1 ranjith\n",
      "2 phoebe\n",
      "3 joey\n"
     ]
    }
   ],
   "source": [
    "names = ['ranjith','phoebe','joey']\n",
    "for index, name in enumerate(names, start = 1):\n",
    "    print(index,name)"
   ]
  },
  {
   "attachments": {},
   "cell_type": "markdown",
   "metadata": {},
   "source": [
    "# virtual env --****IMPORTANT AND INTERESTING"
   ]
  },
  {
   "cell_type": "code",
   "execution_count": 83,
   "metadata": {},
   "outputs": [],
   "source": [
    "# go to folder AI_RMN -> create a new folder -> in this case 'python-venv' -> right click and open new terminal in folder \n",
    "# and type below command \n",
    "#python3 -m venv myenv\n",
    "\n",
    "#now running pip3 install pandas will return -> requirement already satisfied since it is using global env\n",
    "\n",
    "#so run -> \n",
    "#source myenv/bin/activate -- for mac\n",
    "#\n",
    "\n",
    "# you are now in new env -> install dependencies as reqd\n",
    "\n",
    "# --> deactivate\n",
    "# to get out \n",
    "\n",
    "# use\n",
    "# touch main.py to create new py files from terminal\n",
    "\n",
    "#to see what packages are in the env: \n",
    "\n",
    "#pip3 freeze\n",
    "\n",
    "#pip3 freeze > requirements.txt -- to write all librarires to this file when using a new env from someone else specially \n",
    "\n",
    "# just do pip3 install -r requirements.txt -- thereafter to install \n",
    "\n"
   ]
  },
  {
   "attachments": {},
   "cell_type": "markdown",
   "metadata": {},
   "source": [
    "# os"
   ]
  },
  {
   "cell_type": "code",
   "execution_count": 85,
   "metadata": {},
   "outputs": [],
   "source": [
    "#import os\n",
    "#os.mkdir(\"data\") --> creates a folder in the path that it is in"
   ]
  },
  {
   "attachments": {},
   "cell_type": "markdown",
   "metadata": {},
   "source": [
    "# create folder structures!! "
   ]
  },
  {
   "cell_type": "code",
   "execution_count": 6,
   "metadata": {},
   "outputs": [
    {
     "name": "stdout",
     "output_type": "stream",
     "text": [
      "/Users/ranjithmenon/AI_RMN/AI_RMN/rmn-venv-basics\n",
      "/Users/ranjithmenon/AI_RMN/AI_RMN/rmn-venv-basics\n"
     ]
    }
   ],
   "source": [
    "import os\n",
    "cwd = os.getcwd()\n",
    "print(cwd)\n",
    "%cd /Users/ranjithmenon/AI_RMN/AI_RMN/rmn-venv-basics\n",
    "if (not os.path.exists(\"automated-folder\")):\n",
    "    os.mkdir(\"automated-folder\")\n",
    "for i in range(1,10):\n",
    "    os.mkdir(f\"automated-folder/file{i}\")\n",
    "\n",
    "#os.chdir(\"<new path>\") --> to change dir"
   ]
  },
  {
   "cell_type": "code",
   "execution_count": 19,
   "metadata": {},
   "outputs": [
    {
     "name": "stdout",
     "output_type": "stream",
     "text": [
      "/Users/ranjithmenon/AI_RMN/AI_RMN/rmn-venv-basics/automated-folder\n"
     ]
    }
   ],
   "source": [
    "%cd /Users/ranjithmenon/AI_RMN/AI_RMN/rmn-venv-basics/automated-folder/\n",
    "for i in range(1,10):\n",
    "    os.rename(f\"renamed-file{i}\", f\"renamed-file-no{i}\")"
   ]
  },
  {
   "cell_type": "code",
   "execution_count": 22,
   "metadata": {},
   "outputs": [
    {
     "name": "stdout",
     "output_type": "stream",
     "text": [
      "['renamed-file-no9', 'renamed-file-no7', 'renamed-file-no6', 'renamed-file-no1', 'renamed-file-no8', 'renamed-file-no4', 'renamed-file-no3', 'renamed-file-no2', 'renamed-file-no5']\n"
     ]
    }
   ],
   "source": [
    "folders = os.listdir()\n",
    "print(folders)"
   ]
  },
  {
   "attachments": {},
   "cell_type": "markdown",
   "metadata": {},
   "source": [
    "# local vs global variable"
   ]
  },
  {
   "cell_type": "code",
   "execution_count": 31,
   "metadata": {},
   "outputs": [
    {
     "name": "stdout",
     "output_type": "stream",
     "text": [
      "the local x within the function is: 5\n",
      "the global x outside the function is: 10\n"
     ]
    }
   ],
   "source": [
    "x = 10\n",
    "def globaltest():\n",
    "    x = 5\n",
    "    print(f\"the local x within the function is: {x}\")\n",
    "\n",
    "globaltest()\n",
    "print(f\"the global x outside the function is: {x}\")"
   ]
  },
  {
   "attachments": {},
   "cell_type": "markdown",
   "metadata": {},
   "source": [
    "#### Good practice to generally avoid changing global variable inside a function -- so avoid this"
   ]
  },
  {
   "cell_type": "code",
   "execution_count": 32,
   "metadata": {},
   "outputs": [
    {
     "name": "stdout",
     "output_type": "stream",
     "text": [
      "the local x within the function is: 5\n",
      "the global x outside the function is: 5\n"
     ]
    }
   ],
   "source": [
    "x = 10\n",
    "def globaltest():\n",
    "    global x\n",
    "    x = 5\n",
    "    print(f\"the local x within the function is: {x}\")\n",
    "\n",
    "globaltest()\n",
    "print(f\"the global x outside the function is: {x}\")\n"
   ]
  },
  {
   "attachments": {},
   "cell_type": "markdown",
   "metadata": {},
   "source": [
    "# File IO"
   ]
  },
  {
   "cell_type": "code",
   "execution_count": 40,
   "metadata": {},
   "outputs": [
    {
     "name": "stdout",
     "output_type": "stream",
     "text": [
      "Testing file IO stuff\n",
      "\n"
     ]
    }
   ],
   "source": [
    "#os.getcwd()\n",
    "f = open('myfile.txt','r')\n",
    "text = f.read()\n",
    "print(text)\n",
    "f.close()"
   ]
  },
  {
   "cell_type": "code",
   "execution_count": 43,
   "metadata": {},
   "outputs": [
    {
     "name": "stdout",
     "output_type": "stream",
     "text": [
      "11\n"
     ]
    }
   ],
   "source": [
    "#os.getcwd()\n",
    "f = open('myfile.txt','w')\n",
    "text = f.write('Author: RMN')\n",
    "print(text)\n",
    "f.close()\n",
    "\n",
    "# original text got overwritten BEWARE"
   ]
  },
  {
   "cell_type": "code",
   "execution_count": 44,
   "metadata": {},
   "outputs": [],
   "source": [
    "#day 49 done"
   ]
  },
  {
   "cell_type": "code",
   "execution_count": null,
   "metadata": {},
   "outputs": [],
   "source": []
  }
 ],
 "metadata": {
  "kernelspec": {
   "display_name": "Python 3",
   "language": "python",
   "name": "python3"
  },
  "language_info": {
   "codemirror_mode": {
    "name": "ipython",
    "version": 3
   },
   "file_extension": ".py",
   "mimetype": "text/x-python",
   "name": "python",
   "nbconvert_exporter": "python",
   "pygments_lexer": "ipython3",
   "version": "3.11.3"
  },
  "orig_nbformat": 4
 },
 "nbformat": 4,
 "nbformat_minor": 2
}
